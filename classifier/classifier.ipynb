{
 "cells": [
  {
   "cell_type": "markdown",
   "metadata": {},
   "source": [
    "Import libraries"
   ]
  },
  {
   "cell_type": "code",
   "execution_count": 2,
   "metadata": {},
   "outputs": [],
   "source": [
    "# import os\n",
    "# os.environ['TF_USE_LEGACY_KERAS'] = '1'\n",
    "\n",
    "import numpy as np\n",
    "import matplotlib.pyplot as plt\n",
    "from sklearn.model_selection import train_test_split\n",
    "import sklearn\n",
    "import pandas as pd\n",
    "import keras\n",
    "from keras.models import Sequential\n",
    "from keras.layers import Dense, BatchNormalization, InputLayer, Input\n",
    "import tensorflow as tf\n",
    "from sklearn.metrics import confusion_matrix, ConfusionMatrixDisplay\n",
    "from sklearn.preprocessing import MinMaxScaler\n",
    "\n",
    "# import tensorflowjs as tfjs"
   ]
  },
  {
   "cell_type": "markdown",
   "metadata": {},
   "source": [
    "Import data"
   ]
  },
  {
   "cell_type": "code",
   "execution_count": 3,
   "metadata": {},
   "outputs": [
    {
     "data": {
      "text/html": [
       "<div>\n",
       "<style scoped>\n",
       "    .dataframe tbody tr th:only-of-type {\n",
       "        vertical-align: middle;\n",
       "    }\n",
       "\n",
       "    .dataframe tbody tr th {\n",
       "        vertical-align: top;\n",
       "    }\n",
       "\n",
       "    .dataframe thead th {\n",
       "        text-align: right;\n",
       "    }\n",
       "</style>\n",
       "<table border=\"1\" class=\"dataframe\">\n",
       "  <thead>\n",
       "    <tr style=\"text-align: right;\">\n",
       "      <th></th>\n",
       "      <th>pos</th>\n",
       "      <th>eyeDistance</th>\n",
       "      <th>shoulderDistance</th>\n",
       "      <th>eyeShoulderAngle</th>\n",
       "      <th>eyesNoseDistanceDiff</th>\n",
       "      <th>eyesShouldersY</th>\n",
       "      <th>noseEarsY</th>\n",
       "    </tr>\n",
       "  </thead>\n",
       "  <tbody>\n",
       "    <tr>\n",
       "      <th>0</th>\n",
       "      <td>0</td>\n",
       "      <td>75.474941</td>\n",
       "      <td>356.550235</td>\n",
       "      <td>0.040094</td>\n",
       "      <td>0.175490</td>\n",
       "      <td>221.235151</td>\n",
       "      <td>19.782915</td>\n",
       "    </tr>\n",
       "    <tr>\n",
       "      <th>1</th>\n",
       "      <td>0</td>\n",
       "      <td>76.271106</td>\n",
       "      <td>355.333501</td>\n",
       "      <td>0.039938</td>\n",
       "      <td>0.126906</td>\n",
       "      <td>218.549280</td>\n",
       "      <td>25.467968</td>\n",
       "    </tr>\n",
       "    <tr>\n",
       "      <th>2</th>\n",
       "      <td>0</td>\n",
       "      <td>73.998752</td>\n",
       "      <td>352.383438</td>\n",
       "      <td>0.014419</td>\n",
       "      <td>0.146738</td>\n",
       "      <td>222.232819</td>\n",
       "      <td>19.077187</td>\n",
       "    </tr>\n",
       "    <tr>\n",
       "      <th>3</th>\n",
       "      <td>1</td>\n",
       "      <td>87.027394</td>\n",
       "      <td>345.468540</td>\n",
       "      <td>0.031495</td>\n",
       "      <td>0.192182</td>\n",
       "      <td>178.468819</td>\n",
       "      <td>28.269730</td>\n",
       "    </tr>\n",
       "    <tr>\n",
       "      <th>4</th>\n",
       "      <td>1</td>\n",
       "      <td>115.648331</td>\n",
       "      <td>374.838669</td>\n",
       "      <td>0.001412</td>\n",
       "      <td>0.123426</td>\n",
       "      <td>142.069397</td>\n",
       "      <td>72.939634</td>\n",
       "    </tr>\n",
       "  </tbody>\n",
       "</table>\n",
       "</div>"
      ],
      "text/plain": [
       "   pos  eyeDistance  shoulderDistance  eyeShoulderAngle  eyesNoseDistanceDiff  \\\n",
       "0    0    75.474941        356.550235          0.040094              0.175490   \n",
       "1    0    76.271106        355.333501          0.039938              0.126906   \n",
       "2    0    73.998752        352.383438          0.014419              0.146738   \n",
       "3    1    87.027394        345.468540          0.031495              0.192182   \n",
       "4    1   115.648331        374.838669          0.001412              0.123426   \n",
       "\n",
       "   eyesShouldersY  noseEarsY  \n",
       "0      221.235151  19.782915  \n",
       "1      218.549280  25.467968  \n",
       "2      222.232819  19.077187  \n",
       "3      178.468819  28.269730  \n",
       "4      142.069397  72.939634  "
      ]
     },
     "execution_count": 3,
     "metadata": {},
     "output_type": "execute_result"
    }
   ],
   "source": [
    "df = pd.read_csv(\"../backend/dataset1.csv\")\n",
    "df.drop(columns=[\"rawData\"], inplace = True)\n",
    "df.head()"
   ]
  },
  {
   "cell_type": "markdown",
   "metadata": {},
   "source": [
    "Split data into output and input"
   ]
  },
  {
   "cell_type": "code",
   "execution_count": 4,
   "metadata": {},
   "outputs": [
    {
     "data": {
      "text/html": [
       "<div>\n",
       "<style scoped>\n",
       "    .dataframe tbody tr th:only-of-type {\n",
       "        vertical-align: middle;\n",
       "    }\n",
       "\n",
       "    .dataframe tbody tr th {\n",
       "        vertical-align: top;\n",
       "    }\n",
       "\n",
       "    .dataframe thead th {\n",
       "        text-align: right;\n",
       "    }\n",
       "</style>\n",
       "<table border=\"1\" class=\"dataframe\">\n",
       "  <thead>\n",
       "    <tr style=\"text-align: right;\">\n",
       "      <th></th>\n",
       "      <th>eyeDistance</th>\n",
       "      <th>shoulderDistance</th>\n",
       "      <th>eyeShoulderAngle</th>\n",
       "      <th>eyesNoseDistanceDiff</th>\n",
       "      <th>eyesShouldersY</th>\n",
       "      <th>noseEarsY</th>\n",
       "    </tr>\n",
       "  </thead>\n",
       "  <tbody>\n",
       "    <tr>\n",
       "      <th>0</th>\n",
       "      <td>75.474941</td>\n",
       "      <td>356.550235</td>\n",
       "      <td>0.040094</td>\n",
       "      <td>0.175490</td>\n",
       "      <td>221.235151</td>\n",
       "      <td>19.782915</td>\n",
       "    </tr>\n",
       "    <tr>\n",
       "      <th>1</th>\n",
       "      <td>76.271106</td>\n",
       "      <td>355.333501</td>\n",
       "      <td>0.039938</td>\n",
       "      <td>0.126906</td>\n",
       "      <td>218.549280</td>\n",
       "      <td>25.467968</td>\n",
       "    </tr>\n",
       "    <tr>\n",
       "      <th>2</th>\n",
       "      <td>73.998752</td>\n",
       "      <td>352.383438</td>\n",
       "      <td>0.014419</td>\n",
       "      <td>0.146738</td>\n",
       "      <td>222.232819</td>\n",
       "      <td>19.077187</td>\n",
       "    </tr>\n",
       "    <tr>\n",
       "      <th>3</th>\n",
       "      <td>87.027394</td>\n",
       "      <td>345.468540</td>\n",
       "      <td>0.031495</td>\n",
       "      <td>0.192182</td>\n",
       "      <td>178.468819</td>\n",
       "      <td>28.269730</td>\n",
       "    </tr>\n",
       "    <tr>\n",
       "      <th>4</th>\n",
       "      <td>115.648331</td>\n",
       "      <td>374.838669</td>\n",
       "      <td>0.001412</td>\n",
       "      <td>0.123426</td>\n",
       "      <td>142.069397</td>\n",
       "      <td>72.939634</td>\n",
       "    </tr>\n",
       "  </tbody>\n",
       "</table>\n",
       "</div>"
      ],
      "text/plain": [
       "   eyeDistance  shoulderDistance  eyeShoulderAngle  eyesNoseDistanceDiff  \\\n",
       "0    75.474941        356.550235          0.040094              0.175490   \n",
       "1    76.271106        355.333501          0.039938              0.126906   \n",
       "2    73.998752        352.383438          0.014419              0.146738   \n",
       "3    87.027394        345.468540          0.031495              0.192182   \n",
       "4   115.648331        374.838669          0.001412              0.123426   \n",
       "\n",
       "   eyesShouldersY  noseEarsY  \n",
       "0      221.235151  19.782915  \n",
       "1      218.549280  25.467968  \n",
       "2      222.232819  19.077187  \n",
       "3      178.468819  28.269730  \n",
       "4      142.069397  72.939634  "
      ]
     },
     "execution_count": 4,
     "metadata": {},
     "output_type": "execute_result"
    }
   ],
   "source": [
    "target_column = \"pos\"\n",
    "output_column = df.drop(columns=[target_column])\n",
    "output_rows = df[target_column]\n",
    "df.drop(target_column, axis=1, inplace=True)\n",
    "df.head()"
   ]
  },
  {
   "cell_type": "markdown",
   "metadata": {},
   "source": [
    "Scale data"
   ]
  },
  {
   "cell_type": "code",
   "execution_count": 5,
   "metadata": {},
   "outputs": [],
   "source": [
    "# scaler = MinMaxScaler()\n",
    "# scaler.fit(df)\n",
    "# t_df = scaler.transform(df)\n",
    "\n",
    "t_df = df"
   ]
  },
  {
   "cell_type": "markdown",
   "metadata": {},
   "source": [
    "Split train and test data (investigate whether to stratify data later on)"
   ]
  },
  {
   "cell_type": "code",
   "execution_count": null,
   "metadata": {},
   "outputs": [
    {
     "name": "stdout",
     "output_type": "stream",
     "text": [
      "<class 'pandas.core.frame.DataFrame'>\n"
     ]
    }
   ],
   "source": [
    "X_train, X_test, y_train, y_test = train_test_split(t_df, output_rows, test_size=0.25, random_state=1, stratify=output_rows)\n",
    "# print(X_test)\n",
    "# print(type(X_test))"
   ]
  },
  {
   "cell_type": "markdown",
   "metadata": {},
   "source": [
    "Model"
   ]
  },
  {
   "cell_type": "code",
   "execution_count": 7,
   "metadata": {},
   "outputs": [],
   "source": [
    "basic_model = Sequential()\n",
    "basic_model.add(Dense(units=16, activation='relu', input_shape=[6,]))\n",
    "basic_model.add(BatchNormalization())\n",
    "basic_model.add(Dense(1, activation='sigmoid'))\n",
    "adam = keras.optimizers.Adam(learning_rate=0.001)\n",
    "basic_model.compile(loss='binary_crossentropy', optimizer=adam, metrics=[\"accuracy\"])"
   ]
  },
  {
   "cell_type": "markdown",
   "metadata": {},
   "source": [
    "Training"
   ]
  },
  {
   "cell_type": "code",
   "execution_count": null,
   "metadata": {},
   "outputs": [],
   "source": [
    "basic_model.fit(X_train, y_train, epochs=500)"
   ]
  },
  {
   "cell_type": "markdown",
   "metadata": {},
   "source": [
    "Results"
   ]
  },
  {
   "cell_type": "code",
   "execution_count": 9,
   "metadata": {},
   "outputs": [
    {
     "name": "stdout",
     "output_type": "stream",
     "text": [
      "1/1 [==============================] - 0s 224ms/step - loss: 0.1837 - accuracy: 0.8947\n",
      "[0.18365246057510376, 0.8947368264198303]\n",
      "Loss =  0.18365246057510376\n",
      "Accuracy =  0.8947368264198303\n"
     ]
    }
   ],
   "source": [
    "loss_and_metrics = basic_model.evaluate(X_test, y_test)\n",
    "print(loss_and_metrics)\n",
    "print('Loss = ',loss_and_metrics[0])\n",
    "print('Accuracy = ',loss_and_metrics[1])"
   ]
  },
  {
   "cell_type": "markdown",
   "metadata": {},
   "source": [
    "Graphs"
   ]
  },
  {
   "cell_type": "code",
   "execution_count": 10,
   "metadata": {},
   "outputs": [
    {
     "name": "stdout",
     "output_type": "stream",
     "text": [
      "1/1 [==============================] - 0s 142ms/step\n"
     ]
    },
    {
     "data": {
      "text/plain": [
       "<sklearn.metrics._plot.confusion_matrix.ConfusionMatrixDisplay at 0x7f9b6c62c050>"
      ]
     },
     "execution_count": 10,
     "metadata": {},
     "output_type": "execute_result"
    },
    {
     "data": {
      "image/png": "[encoded data removed]",
      "text/plain": [
       "<Figure size 640x480 with 2 Axes>"
      ]
     },
     "metadata": {},
     "output_type": "display_data"
    }
   ],
   "source": [
    "predicted = basic_model.predict(X_test)\n",
    "\n",
    "predicted = tf.squeeze(predicted)\n",
    "predicted = np.array([1 if x >= 0.5 else 0 for x in predicted])\n",
    "actual = np.array(y_test)\n",
    "conf_mat = confusion_matrix(actual, predicted)\n",
    "displ = ConfusionMatrixDisplay(confusion_matrix=conf_mat)\n",
    "displ.plot()"
   ]
  },
  {
   "cell_type": "markdown",
   "metadata": {},
   "source": [
    "Save model"
   ]
  },
  {
   "cell_type": "code",
   "execution_count": 12,
   "metadata": {},
   "outputs": [
    {
     "name": "stdout",
     "output_type": "stream",
     "text": [
      "2024-11-27 18:49:52.993804\n"
     ]
    },
    {
     "name": "stderr",
     "output_type": "stream",
     "text": [
      "/home/tsw/projects/strAIght/classifier/.convertvenv/lib/python3.11/site-packages/keras/src/engine/training.py:3103: UserWarning: You are saving your model as an HDF5 file via `model.save()`. This file format is considered legacy. We recommend using instead the native Keras format, e.g. `model.save('my_model.keras')`.\n",
      "  saving_api.save_model(\n"
     ]
    }
   ],
   "source": [
    "from datetime import datetime\n",
    "now = datetime.now()\n",
    "\n",
    "print(now)\n",
    "\n",
    "formatted_string = now.strftime(\"%Y-%m-%d(%H:%M:%S)\")\n",
    "\n",
    "basic_model.save(\"./models/\" + \"test\" + formatted_string + \".h5\")\n",
    "\n",
    "# tfjs.converters.save_keras_model(basic_model, \"./testtfjsmodel2/\")\n",
    "\n",
    "# json_config = basic_model.to_json()\n",
    "# with open('model_config5.json', 'w') as json_file:\n",
    "#     json_file.write(json_config)\n",
    "# # weights saving to disk\n",
    "# basic_model.save_weights('model5.weights.h5')"
   ]
  },
  {
   "cell_type": "code",
   "execution_count": null,
   "metadata": {},
   "outputs": [
    {
     "name": "stdout",
     "output_type": "stream",
     "text": [
      "   eyeDistance  shoulderDistance  eyeShoulderAngle  eyesNoseDistanceDiff  \\\n",
      "0    75.474941        356.550235          0.040094               0.17549   \n",
      "\n",
      "   eyesShouldersY  noseEarsY  \n",
      "0      221.235151  19.782915  \n",
      "<class 'pandas.core.frame.DataFrame'>\n",
      "tf.Tensor(\n",
      "[[7.54749413e+01 3.56550235e+02 4.00936705e-02 1.75490231e-01\n",
      "  2.21235151e+02 1.97829151e+01]], shape=(1, 6), dtype=float64)\n"
     ]
    }
   ],
   "source": [
    "first_row = t_df.head(1)\n",
    "print(first_row)\n",
    "print(type(first_row))\n",
    "t = tf.convert_to_tensor(first_row)\n",
    "print(t)\n",
    "\n"
   ]
  }
 ],
 "metadata": {
  "kernelspec": {
   "display_name": ".convertvenv",
   "language": "python",
   "name": "python3"
  },
  "language_info": {
   "codemirror_mode": {
    "name": "ipython",
    "version": 3
   },
   "file_extension": ".py",
   "mimetype": "text/x-python",
   "name": "python",
   "nbconvert_exporter": "python",
   "pygments_lexer": "ipython3",
   "version": "3.11.2"
  }
 },
 "nbformat": 4,
 "nbformat_minor": 2
}
